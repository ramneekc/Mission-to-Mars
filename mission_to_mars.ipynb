{
 "cells": [
  {
   "cell_type": "code",
   "execution_count": 170,
   "metadata": {},
   "outputs": [],
   "source": [
    "from bs4 import BeautifulSoup as bs\n",
    "import requests\n",
    "from splinter import Browser\n",
    "import pandas as pd\n",
    "from splinter.exceptions import ElementDoesNotExist"
   ]
  },
  {
   "cell_type": "code",
   "execution_count": 194,
   "metadata": {},
   "outputs": [],
   "source": [
    "executable_path = {'executable_path': 'chromedriver.exe'}\n",
    "browser = Browser('chrome', **executable_path, headless=False)"
   ]
  },
  {
   "cell_type": "code",
   "execution_count": 59,
   "metadata": {},
   "outputs": [
    {
     "name": "stdout",
     "output_type": "stream",
     "text": [
      "NASA's Treasure Map for Water Ice on Mars\n",
      "A new study identifies frozen water just below the Martian surface, where astronauts could easily dig it up.\n"
     ]
    }
   ],
   "source": [
    "url = 'https://mars.nasa.gov/news/'\n",
    "browser.visit(url)\n",
    "html = browser.html\n",
    "soup = bs(html, 'html.parser')\n",
    "results = soup.find_all('li', class_=\"slide\")\n",
    "news_title = results[0].find('h3').text\n",
    "news_p = results[0].find('div', class_=\"rollover_description_inner\").text\n",
    "# print(results[0])\n",
    "print(news_title)\n",
    "print(news_p)   "
   ]
  },
  {
   "cell_type": "code",
   "execution_count": 65,
   "metadata": {},
   "outputs": [
    {
     "name": "stdout",
     "output_type": "stream",
     "text": [
      "https://www.jpl.nasa.gov//spaceimages/images/mediumsize/PIA18433_ip.jpg\n"
     ]
    }
   ],
   "source": [
    "url1 = \"https://www.jpl.nasa.gov/spaceimages/?search=&category=Mars\"\n",
    "browser.visit(url1)\n",
    "html = browser.html\n",
    "soup = bs(html, 'html.parser')\n",
    "results = soup.find('div', class_=\"carousel_items\")\n",
    "article = results.find('article')\n",
    "img_url_2 = article.find('a',id=\"full_image\")['data-fancybox-href']\n",
    "img_ulr_1 = 'https://www.jpl.nasa.gov/'\n",
    "featured_image_url = img_ulr_1 + img_url_2\n",
    "# print(article) \n",
    "print(featured_image_url)"
   ]
  },
  {
   "cell_type": "code",
   "execution_count": 185,
   "metadata": {},
   "outputs": [
    {
     "name": "stdout",
     "output_type": "stream",
     "text": [
      "\n",
      "https://twitter.com/marscuriosity/status/1207482564530692096 …pic.twitter.com/bnRlxj3D2K\n",
      "\n"
     ]
    }
   ],
   "source": [
    "url2 = 'https://twitter.com/marswxreport?lang=en'\n",
    "browser.visit(url2)\n",
    "html = browser.html\n",
    "soup = bs(html, 'html.parser')\n",
    "results = soup.find_all('li', class_=\"js-stream-item stream-item stream-item\")\n",
    "mars_weather = results[0].find('div',class_=\"js-tweet-text-container\").text\n",
    "# print(results[0])\n",
    "print(mars_weather)"
   ]
  },
  {
   "cell_type": "code",
   "execution_count": 198,
   "metadata": {},
   "outputs": [
    {
     "name": "stdout",
     "output_type": "stream",
     "text": [
      "\n",
      "InSight sol 370 (2019-12-11) low -99.0ºC (-146.1ºF) high -19.5ºC (-3.0ºF)\n",
      "winds from the SSE at 5.1 m/s (11.4 mph) gusting to 19.6 m/s (43.9 mph)\n",
      "pressure at 6.60 hPapic.twitter.com/XqOy8yFlI6\n",
      "\n"
     ]
    }
   ],
   "source": [
    "url2 = 'https://twitter.com/marswxreport?lang=en'\n",
    "browser.visit(url2)\n",
    "html = browser.html\n",
    "soup = bs(html, 'html.parser')\n",
    "results = soup.find_all('li', class_=\"js-stream-item stream-item stream-item\")\n",
    "\n",
    "for i in range(10):\n",
    "    x = results[i].find('div',class_=\"js-tweet-text-container\").text\n",
    "    if \"insight\" in x.lower():\n",
    "        mars_weather = x\n",
    "# print(results)\n",
    "print(mars_weather)"
   ]
  },
  {
   "cell_type": "code",
   "execution_count": 192,
   "metadata": {},
   "outputs": [
    {
     "data": {
      "text/plain": [
       "False"
      ]
     },
     "execution_count": 192,
     "metadata": {},
     "output_type": "execute_result"
    }
   ],
   "source": [
    "x = \"InSight sol 377 (2019-12-18) low -97.5ºC (-143.6ºF) high -19.9ºC (-3.9ºF) \\\n",
    "winds from the SSE at 6.4 m/s (14.3 mph) gusting to 21.0 m/s (47.1 mph) \\\n",
    "pressure at 6.50 hPa\"\n",
    "\"insigt\" in x.lower()"
   ]
  },
  {
   "cell_type": "code",
   "execution_count": 200,
   "metadata": {},
   "outputs": [],
   "source": [
    "url3 = 'https://space-facts.com/mars/'\n",
    "tables = pd.read_html(url3)\n",
    "df = tables[0]\n",
    "html_table = df.to_html(\"dsiaodjhas\")\n",
    "html_table.replace('\\n', '')\n",
    "\n",
    "text_file = open(\"Mars_facts_table.html\", \"w\")\n",
    "text_file.write(html_table)\n",
    "text_file.close()"
   ]
  },
  {
   "cell_type": "code",
   "execution_count": 178,
   "metadata": {},
   "outputs": [
    {
     "data": {
      "text/plain": [
       "[{'title': 'Cerberus Hemisphere Enhanced',\n",
       "  'img_url': 'https://astrogeology.usgs.gov/search/results?q=hemisphere+enhanced&k1=target&v1=Mars'},\n",
       " {'title': 'Schiaparelli Hemisphere Enhanced',\n",
       "  'img_url': 'https://astrogeology.usgs.gov/search/results?q=hemisphere+enhanced&k1=target&v1=Mars'},\n",
       " {'title': 'Syrtis Major Hemisphere Enhanced',\n",
       "  'img_url': 'https://astrogeology.usgs.gov/search/results?q=hemisphere+enhanced&k1=target&v1=Mars'},\n",
       " {'title': 'Valles Marineris Hemisphere Enhanced',\n",
       "  'img_url': 'https://astrogeology.usgs.gov/search/results?q=hemisphere+enhanced&k1=target&v1=Mars'}]"
      ]
     },
     "execution_count": 178,
     "metadata": {},
     "output_type": "execute_result"
    }
   ],
   "source": [
    "url4 = \"https://astrogeology.usgs.gov/search/results?q=hemisphere+enhanced&k1=target&v1=Mars\"\n",
    "browser.visit(url4)\n",
    "html = browser.html\n",
    "soup = bs(html, 'html.parser')\n",
    "results = soup.find('div', class_=\"collapsible results\")\n",
    "x = results.find_all('div',class_=\"description\")\n",
    "\n",
    "base_url = \"https://astrogeology.usgs.gov\"\n",
    "hemisphere_image_list = []\n",
    "for result in x:\n",
    "    hemisphere_image_dict = {}\n",
    "    y = result.find('h3').text\n",
    "    itemlink = result.find('a',class_=\"itemLink product-item\")\n",
    "    url_1 = itemlink['href']\n",
    "    url_2 = base_url + url_1\n",
    "    browser.visit(url_2)\n",
    "    html_1 = browser.html\n",
    "    soup_1 = bs(html_1, 'html.parser')\n",
    "    results_1 = soup_1.find('img', class_=\"wide-image\")\n",
    "    url_3 = results_1['src']\n",
    "    url_4 = base_url + url_3\n",
    "    \n",
    "    hemisphere_image_dict[\"title\"]=y\n",
    "    hemisphere_image_dict[\"img_url\"]=url4\n",
    "    hemisphere_image_list.append(hemisphere_image_dict)\n",
    "\n",
    "hemisphere_image_list      "
   ]
  },
  {
   "cell_type": "code",
   "execution_count": null,
   "metadata": {},
   "outputs": [],
   "source": []
  }
 ],
 "metadata": {
  "kernelspec": {
   "display_name": "Python 3",
   "language": "python",
   "name": "python3"
  },
  "language_info": {
   "codemirror_mode": {
    "name": "ipython",
    "version": 3
   },
   "file_extension": ".py",
   "mimetype": "text/x-python",
   "name": "python",
   "nbconvert_exporter": "python",
   "pygments_lexer": "ipython3",
   "version": "3.7.3"
  }
 },
 "nbformat": 4,
 "nbformat_minor": 2
}
